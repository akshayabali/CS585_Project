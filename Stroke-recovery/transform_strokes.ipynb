{
 "cells": [
  {
   "cell_type": "code",
   "execution_count": null,
   "metadata": {},
   "outputs": [],
   "source": [
    "import numpy as np\n",
    "from visualize_hw import draw_stroke_svg"
   ]
  },
  {
   "attachments": {},
   "cell_type": "markdown",
   "metadata": {},
   "source": [
    "## Import strokes extracted using TRACE method"
   ]
  },
  {
   "cell_type": "code",
   "execution_count": null,
   "metadata": {},
   "outputs": [],
   "source": [
    "strokes = np.load(\"file_name.npy\", allow_pickle=True)"
   ]
  },
  {
   "attachments": {},
   "cell_type": "markdown",
   "metadata": {},
   "source": [
    "## Transform the strokes to be compatible with the style transfer inputs"
   ]
  },
  {
   "cell_type": "code",
   "execution_count": null,
   "metadata": {},
   "outputs": [],
   "source": [
    "transformed_strokes_deepwriting =  []\n",
    "transformed_strokes_handwritingsynth = []\n",
    "\n",
    "sentences = 100\n",
    "\n",
    "# strokes = np.random.choice(strokes, sentences, replace=False)\n",
    "for (i, stroke) in enumerate(strokes):\n",
    "    transformed_strokes_deepwriting.append({**stroke, 'stroke': []})\n",
    "    transformed_strokes_handwritingsynth.append({**stroke, 'stroke': []})\n",
    "    length = len(stroke['stroke'])\n",
    "    for j in range(length - 1):\n",
    "        x = strokes[i]['stroke'][j][0]\n",
    "        y = strokes[i]['stroke'][j][1]\n",
    "        z = strokes[i]['stroke'][j][2]\n",
    "\n",
    "        _x = strokes[i]['stroke'][j+1][0]\n",
    "        _y = strokes[i]['stroke'][j+1][1]\n",
    "        _z = strokes[i]['stroke'][j+1][2]\n",
    "\n",
    "        transformed_strokes_deepwriting[i]['stroke'].append([x-_x, _y-y, z])\n",
    "        transformed_strokes_handwritingsynth[i]['stroke'].append([(x-_x)*20, (y-_y)*20, z])\n",
    "\n",
    "    transformed_strokes_deepwriting[i]['stroke'] = transformed_strokes_deepwriting[i]['stroke'][::-1]\n",
    "    transformed_strokes_handwritingsynth[i]['stroke'] = transformed_strokes_handwritingsynth[i]['stroke'][::-1]\n",
    "\n",
    "    transformed_strokes_deepwriting[i]['stroke'] = np.array(transformed_strokes_deepwriting[i]['stroke'], dtype=np.float32)\n",
    "    transformed_strokes_handwritingsynth[i]['stroke'] = np.array(transformed_strokes_handwritingsynth[i]['stroke'], dtype=np.float32)\n",
    "\n",
    "\n",
    "transformed_strokes_deepwriting = np.array(transformed_strokes_deepwriting)\n",
    "transformed_strokes_handwritingsynth = np.array(transformed_strokes_handwritingsynth)\n"
   ]
  },
  {
   "cell_type": "code",
   "execution_count": null,
   "metadata": {},
   "outputs": [],
   "source": [
    "np.save(f'transformed_strokes/new_deepwriting_strokes-{str(sentences)}.npy', transformed_strokes_deepwriting)\n",
    "np.save(f'transformed_strokes/new_handwritingsynth_strokes-{str(sentences)}.npy', transformed_strokes_handwritingsynth)"
   ]
  }
 ],
 "metadata": {
  "kernelspec": {
   "display_name": "Python 3",
   "language": "python",
   "name": "python3"
  },
  "language_info": {
   "codemirror_mode": {
    "name": "ipython",
    "version": 3
   },
   "file_extension": ".py",
   "mimetype": "text/x-python",
   "name": "python",
   "nbconvert_exporter": "python",
   "pygments_lexer": "ipython3",
   "version": "3.10.7"
  },
  "orig_nbformat": 4
 },
 "nbformat": 4,
 "nbformat_minor": 2
}
